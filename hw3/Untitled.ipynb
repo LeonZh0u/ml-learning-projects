{
 "cells": [
  {
   "cell_type": "code",
   "execution_count": 13,
   "id": "6fdf8613-6bdd-437c-8314-06c8997290ab",
   "metadata": {},
   "outputs": [],
   "source": [
    "import os\n",
    "import audio2numpy as a2n\n",
    "import numpy as np"
   ]
  },
  {
   "cell_type": "code",
   "execution_count": 20,
   "id": "728bd9f7-56ee-4618-aafe-852738acc1c1",
   "metadata": {
    "scrolled": true
   },
   "outputs": [],
   "source": [
    "workdir = \"/Users/leon/workdir/ml-learning-projects/hw3\""
   ]
  },
  {
   "cell_type": "code",
   "execution_count": 18,
   "id": "dff1b657-5212-4dac-9bc0-12e5ee1baacd",
   "metadata": {},
   "outputs": [
    {
     "name": "stdout",
     "output_type": "stream",
     "text": [
      "sampling rate 44100\n",
      "sampling rate 44100\n",
      "sampling rate 44100\n",
      "sampling rate 44100\n",
      "sampling rate 44100\n"
     ]
    }
   ],
   "source": [
    "cnt = 0\n",
    "for file in os.listdir(workdir):\n",
    "    filename = os.fsdecode(file)\n",
    "    if filename.endswith(\".mp3\"):\n",
    "        cnt += 1\n",
    "        npz, sr=a2n.audio_from_file(filename)\n",
    "        print(\"sampling rate {rate}\".format(rate = sr))\n",
    "        np.save(\"lofi_\"+str(cnt), npz)"
   ]
  },
  {
   "cell_type": "code",
   "execution_count": 23,
   "id": "1c2cbe49-6835-446a-96d2-d0e4a734836d",
   "metadata": {},
   "outputs": [
    {
     "name": "stdout",
     "output_type": "stream",
     "text": [
      "(162010368, 2)\n"
     ]
    },
    {
     "data": {
      "text/plain": [
       "(162010368,)"
      ]
     },
     "execution_count": 23,
     "metadata": {},
     "output_type": "execute_result"
    }
   ],
   "source": [
    "npy = np.array([])\n",
    "for file in os.listdir(workdir):\n",
    "    filename = os.fsdecode(file)\n",
    "    if filename.endswith(\"1.npy\"):\n",
    "      audio_file = np.load(filename)\n",
    "      print(audio_file.shape)\n",
    "      # reduce to 1 channel\n",
    "      npy = np.concatenate((npy, np.mean(audio_file, axis=1)))\n",
    "      del audio_file\n",
    "npy.shape"
   ]
  },
  {
   "cell_type": "code",
   "execution_count": 26,
   "id": "ef2ba869-2a15-4596-9101-c01f9dc4c256",
   "metadata": {},
   "outputs": [],
   "source": [
    "np.save(\"training_data_short\", npy)"
   ]
  },
  {
   "cell_type": "code",
   "execution_count": null,
   "id": "b73184c7-5235-4901-b539-d12e9173928b",
   "metadata": {},
   "outputs": [],
   "source": []
  },
  {
   "cell_type": "code",
   "execution_count": null,
   "id": "f12ada61-8a8c-4e69-b843-c98cbc632967",
   "metadata": {},
   "outputs": [],
   "source": []
  }
 ],
 "metadata": {
  "kernelspec": {
   "display_name": "Python 3 (ipykernel)",
   "language": "python",
   "name": "python3"
  },
  "language_info": {
   "codemirror_mode": {
    "name": "ipython",
    "version": 3
   },
   "file_extension": ".py",
   "mimetype": "text/x-python",
   "name": "python",
   "nbconvert_exporter": "python",
   "pygments_lexer": "ipython3",
   "version": "3.12.5"
  }
 },
 "nbformat": 4,
 "nbformat_minor": 5
}
